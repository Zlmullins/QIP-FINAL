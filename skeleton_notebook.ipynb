{
 "cells": [
  {
   "cell_type": "markdown",
   "id": "0c4a8dc7",
   "metadata": {},
   "source": [
    "# Skeleton implementation of Shor’s algorithm in Qiskit.\n",
    "### JHU QIP Spring 2025\n",
    "### Team 1"
   ]
  },
  {
   "cell_type": "code",
   "execution_count": 1,
   "id": "71c1af74",
   "metadata": {},
   "outputs": [],
   "source": [
    "#!pip install qiskit==2.0.0 qiskit-aer==0.17.0"
   ]
  },
  {
   "cell_type": "code",
   "execution_count": 2,
   "id": "3f197450",
   "metadata": {},
   "outputs": [],
   "source": [
    "from __future__ import annotations\n",
    "import argparse\n",
    "import math\n",
    "import random\n",
    "import sympy\n",
    "import time\n",
    "from typing import Tuple, Optional\n",
    "from ipywidgets import widgets\n",
    "\n",
    "# Qiskit imports\n",
    "from qiskit import (\n",
    "    QuantumCircuit,\n",
    "    ClassicalRegister,\n",
    "    transpile\n",
    ")\n",
    "from qiskit_aer import Aer\n",
    "from qiskit.circuit.library import QFT"
   ]
  },
  {
   "cell_type": "markdown",
   "id": "11e267d9",
   "metadata": {},
   "source": [
    "# 1) Core"
   ]
  },
  {
   "cell_type": "code",
   "execution_count": 3,
   "id": "29115b76",
   "metadata": {},
   "outputs": [],
   "source": [
    "def shor_factor(N: int, simulator: str = \"aer_simulator\") -> Optional[Tuple[int, int]]:\n",
    "    \"\"\"\n",
    "    Factor N with Shor.  Return (p, q) or None if failure.\n",
    "\n",
    "    Steps (fill in):\n",
    "        a) Pick random a < N and gcd(a, N) == 1\n",
    "        b) Use order‑finding subroutine to find r = order_N(a)\n",
    "        c) If r is even and a^(r/2) ≠ −1 (mod N), compute p, q\n",
    "    \"\"\"\n",
    "    if N % 2 == 0:\n",
    "        return (2, N // 2)\n",
    "\n",
    "    while True:\n",
    "        a = random.randrange(2, N - 1)\n",
    "        if math.gcd(a, N) != 1:\n",
    "            # lucky classical factor\n",
    "            return (math.gcd(a, N), N // math.gcd(a, N))\n",
    "\n",
    "        # subroutine skeleton --------------------------------\n",
    "        r = order_finding(a, N, simulator)        # TODO: implement\n",
    "        # --------------------------------------------------------------------\n",
    "\n",
    "        if r is None or r % 2 != 0 or pow(a, r // 2, N) == N - 1:\n",
    "            # failed attempt – try new 'a'\n",
    "            continue\n",
    "\n",
    "        p = math.gcd(pow(a, r // 2) - 1, N)\n",
    "        q = math.gcd(pow(a, r // 2) + 1, N)\n",
    "        if p * q == N and p not in (1, N) and q not in (1, N):\n",
    "            return (p, q)\n",
    "        # else retry"
   ]
  },
  {
   "cell_type": "markdown",
   "id": "690a406b",
   "metadata": {},
   "source": [
    "# 2) Quantum order-finding circuit"
   ]
  },
  {
   "cell_type": "code",
   "execution_count": 4,
   "id": "a98b707d",
   "metadata": {},
   "outputs": [],
   "source": [
    "def order_finding(a: int, N: int, simulator: str) -> Optional[int]:\n",
    "    \"\"\"\n",
    "    Build |2n⟩ control + n target qubits for ME(a, N) and inverse QFT\n",
    "    to extract the period r.  Return r (int) if successful, else None.\n",
    "    Replace the NotImplemented with your circuit construction.\n",
    "    \"\"\"\n",
    "    n = math.ceil(math.log2(N))          # # of target qubits\n",
    "    t = 2 * n                            # # of counting qubits\n",
    "    qc = QuantumCircuit(t + n, t)\n",
    "\n",
    "    # -- placeholder: modular exponentiation oracle --------------------------\n",
    "    # Implement ME   |x⟩|1⟩  --> |x⟩|a^x mod N⟩  (needs n ancillary qubits)\n",
    "    qc.barrier()\n",
    "    # ------------------------------------------------------------------------\n",
    "\n",
    "    # Apply QFT^{-1}, measure, classical post‑processing ...\n",
    "    raise NotImplementedError(\"Design the order‑finding circuit!\")"
   ]
  },
  {
   "cell_type": "markdown",
   "id": "8c87c0f0",
   "metadata": {},
   "source": [
    "# 3) Resource & scaling study helpers"
   ]
  },
  {
   "cell_type": "code",
   "execution_count": 5,
   "id": "7a8233c3",
   "metadata": {},
   "outputs": [],
   "source": [
    "def circuit_size_vs_bits(max_bits: int = 14, backend=\"aer_simulator\"):\n",
    "    \"\"\"Generate data: (bits, qubits, gates) for plotting.\"\"\"\n",
    "    records = []\n",
    "    for nbits in range(6, max_bits + 1):\n",
    "        N = random_semiprime(nbits)\n",
    "        qc = transpile(build_modexp_circuit(nbits), basis_gates=[\"cx\", \"u3\"])\n",
    "        records.append((nbits, qc.num_qubits, qc.size()))\n",
    "    return records\n",
    "\n",
    "\n",
    "def simulate_until_break(max_bits: int = 14):\n",
    "    \"\"\"Run the state‑vector simulator until memory/time blows up.\"\"\"\n",
    "    backend = Aer.get_backend(\"aer_simulator\")\n",
    "    for nbits in range(6, max_bits + 1):\n",
    "        N = random_semiprime(nbits)\n",
    "        try:\n",
    "            shor_factor(N, simulator=\"aer_simulator\")   # will call backend\n",
    "        except MemoryError:\n",
    "            print(f\"Simulation broke at {nbits}‑bit N\")\n",
    "            break"
   ]
  },
  {
   "cell_type": "markdown",
   "id": "65a4b414",
   "metadata": {},
   "source": [
    "# 4) Utilities / stubs"
   ]
  },
  {
   "cell_type": "code",
   "execution_count": 6,
   "id": "f5d94650",
   "metadata": {},
   "outputs": [],
   "source": [
    "def random_semiprime(nbits: int) -> int:\n",
    "    \"\"\"Return a random n‑bit *odd* composite (product of two primes).\"\"\"\n",
    "    # set a timer for one minute \n",
    "    timeout = time.time() + 60\n",
    "    while True:\n",
    "        p = q = 1\n",
    "        while (p == q):\n",
    "            # sympy.randprime(a,b) generates a random prime in the interval [a,b)\n",
    "            p = sympy.randprime(2**(nbits//2-1), 2**(nbits//2))\n",
    "            q = sympy.randprime(2**(nbits-nbits//2-1), 2**(nbits-nbits//2))\n",
    "            # give up after a minute has passed\n",
    "            if time.time() > timeout:\n",
    "                raise Exception('Could not generate random primes fast enough')\n",
    "        # N is guaranteed to be between n-1 and n bits \n",
    "        N = p * q \n",
    "        if N.bit_length() == nbits:\n",
    "            return N\n",
    "\n",
    "\n",
    "def build_modexp_circuit(nbits: int) -> QuantumCircuit:\n",
    "    \"\"\"Return *one* modular exponentiation building‑block to inspect size.\"\"\"\n",
    "    # For scaling study only – not wired to full algorithm.\n",
    "    # Could be CuModExp, repeated‑squaring, or Beauregard style...\n",
    "    return QuantumCircuit(nbits)  # stub"
   ]
  },
  {
   "cell_type": "markdown",
   "id": "efa2fb44",
   "metadata": {},
   "source": [
    "# 5) CLI & plotting hooks"
   ]
  },
  {
   "cell_type": "code",
   "execution_count": 7,
   "id": "83e45351",
   "metadata": {},
   "outputs": [
    {
     "name": "stdout",
     "output_type": "stream",
     "text": [
      "------- SHOR SKELETON IN QISKIT -------\n",
      "\n",
      "Number to factor (if left blank: scaling study)\n"
     ]
    },
    {
     "data": {
      "application/vnd.jupyter.widget-view+json": {
       "model_id": "f474c82c463e407999f8baf5bf70564c",
       "version_major": 2,
       "version_minor": 0
      },
      "text/plain": [
       "Text(value='', description='N = ')"
      ]
     },
     "metadata": {},
     "output_type": "display_data"
    },
    {
     "data": {
      "application/vnd.jupyter.widget-view+json": {
       "model_id": "849a139792804d8a9c7b7dd7e1e1bfc0",
       "version_major": 2,
       "version_minor": 0
      },
      "text/plain": [
       "Button(description=\"run Shor's\", style=ButtonStyle())"
      ]
     },
     "metadata": {},
     "output_type": "display_data"
    }
   ],
   "source": [
    "print('------- SHOR SKELETON IN QISKIT -------')\n",
    "print()\n",
    "print('Number to factor (if left blank: scaling study)')\n",
    "\n",
    "text_widget = widgets.Text(description=\"N = \")\n",
    "display(text_widget)\n",
    "\n",
    "button_widget = widgets.Button(description=\"run Shor's\")\n",
    "display(button_widget)\n",
    "\n",
    "def handle_click(sender):\n",
    "    if len(text_widget.value) > 0:\n",
    "        try:\n",
    "            N = int(text_widget.value)\n",
    "        except:\n",
    "            raise TypeError(\"Only integers are allowed for N\")\n",
    "        res = shor_factor(N)\n",
    "        if res:\n",
    "            p, q = res\n",
    "            print(f\"{args.N} = {p} × {q}\")\n",
    "        else:\n",
    "            print(\"Failed to find non‑trivial factors (try again).\")\n",
    "    else:\n",
    "        # Quick scaling demo\n",
    "        data = circuit_size_vs_bits()\n",
    "        print(\"bits,qubits,gates\")\n",
    "        for rec in data:\n",
    "            print(*rec, sep=\",\")\n",
    "    \n",
    "button_widget.on_click(handle_click)"
   ]
  },
  {
   "cell_type": "code",
   "execution_count": null,
   "id": "9f1d6f58",
   "metadata": {},
   "outputs": [],
   "source": []
  }
 ],
 "metadata": {
  "kernelspec": {
   "display_name": "Python 3 (ipykernel)",
   "language": "python",
   "name": "python3"
  },
  "language_info": {
   "codemirror_mode": {
    "name": "ipython",
    "version": 3
   },
   "file_extension": ".py",
   "mimetype": "text/x-python",
   "name": "python",
   "nbconvert_exporter": "python",
   "pygments_lexer": "ipython3",
   "version": "3.9.13"
  }
 },
 "nbformat": 4,
 "nbformat_minor": 5
}
